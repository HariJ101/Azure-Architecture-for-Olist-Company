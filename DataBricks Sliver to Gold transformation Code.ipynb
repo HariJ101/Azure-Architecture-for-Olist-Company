{
 "cells": [
  {
   "cell_type": "code",
   "execution_count": 0,
   "metadata": {
    "application/vnd.databricks.v1+cell": {
     "cellMetadata": {
      "byteLimit": 2048000,
      "rowLimit": 10000
     },
     "collapsed": true,
     "inputWidgets": {},
     "nuid": "a7e0b0df-dc29-48fe-b582-cffbb35509dd",
     "showTitle": false,
     "title": ""
    }
   },
   "outputs": [
    {
     "output_type": "execute_result",
     "data": {
      "text/plain": [
       "[FileInfo(path='dbfs:/mnt/olist-silver/census/', name='census/', size=0, modificationTime=1715095089000),\n",
       " FileInfo(path='dbfs:/mnt/olist-silver/customers/', name='customers/', size=0, modificationTime=1715095110000),\n",
       " FileInfo(path='dbfs:/mnt/olist-silver/geolocations/', name='geolocations/', size=0, modificationTime=1715095158000),\n",
       " FileInfo(path='dbfs:/mnt/olist-silver/order_items/', name='order_items/', size=0, modificationTime=1715092577000),\n",
       " FileInfo(path='dbfs:/mnt/olist-silver/order_payments/', name='order_payments/', size=0, modificationTime=1715094298000),\n",
       " FileInfo(path='dbfs:/mnt/olist-silver/order_reviews_fortrans/', name='order_reviews_fortrans/', size=0, modificationTime=1715242123000),\n",
       " FileInfo(path='dbfs:/mnt/olist-silver/order_reviews_full/', name='order_reviews_full/', size=0, modificationTime=1715242119000),\n",
       " FileInfo(path='dbfs:/mnt/olist-silver/orders/', name='orders/', size=0, modificationTime=1715094316000),\n",
       " FileInfo(path='dbfs:/mnt/olist-silver/products/', name='products/', size=0, modificationTime=1715092595000),\n",
       " FileInfo(path='dbfs:/mnt/olist-silver/sellers/', name='sellers/', size=0, modificationTime=1715095138000)]"
      ]
     },
     "execution_count": 2,
     "metadata": {},
     "output_type": "execute_result"
    }
   ],
   "source": [
    "\n",
    "\n",
    "dbutils.fs.ls('mnt/olist-silver/')"
   ]
  },
  {
   "cell_type": "code",
   "execution_count": 0,
   "metadata": {
    "application/vnd.databricks.v1+cell": {
     "cellMetadata": {
      "byteLimit": 2048000,
      "rowLimit": 10000
     },
     "collapsed": true,
     "inputWidgets": {},
     "nuid": "5fb23158-9b50-415b-9465-d0b8942cd8c9",
     "showTitle": false,
     "title": ""
    }
   },
   "outputs": [
    {
     "output_type": "execute_result",
     "data": {
      "text/plain": [
       "[FileInfo(path='dbfs:/mnt/olist-gold/census/', name='census/', size=0, modificationTime=1715244866000),\n",
       " FileInfo(path='dbfs:/mnt/olist-gold/customers/', name='customers/', size=0, modificationTime=1715244874000),\n",
       " FileInfo(path='dbfs:/mnt/olist-gold/geolocation/', name='geolocation/', size=0, modificationTime=1715244870000),\n",
       " FileInfo(path='dbfs:/mnt/olist-gold/order_items/', name='order_items/', size=0, modificationTime=1715244861000),\n",
       " FileInfo(path='dbfs:/mnt/olist-gold/order_payments/', name='order_payments/', size=0, modificationTime=1715244867000),\n",
       " FileInfo(path='dbfs:/mnt/olist-gold/orders/', name='orders/', size=0, modificationTime=1715244858000),\n",
       " FileInfo(path='dbfs:/mnt/olist-gold/products/', name='products/', size=0, modificationTime=1715244863000),\n",
       " FileInfo(path='dbfs:/mnt/olist-gold/reviews_eng/', name='reviews_eng/', size=0, modificationTime=1715249060000),\n",
       " FileInfo(path='dbfs:/mnt/olist-gold/reviews_full/', name='reviews_full/', size=0, modificationTime=1715249156000),\n",
       " FileInfo(path='dbfs:/mnt/olist-gold/sellers/', name='sellers/', size=0, modificationTime=1715244872000)]"
      ]
     },
     "execution_count": 3,
     "metadata": {},
     "output_type": "execute_result"
    }
   ],
   "source": [
    "dbutils.fs.ls('mnt/olist-gold/')"
   ]
  },
  {
   "cell_type": "code",
   "execution_count": 0,
   "metadata": {
    "application/vnd.databricks.v1+cell": {
     "cellMetadata": {
      "byteLimit": 2048000,
      "rowLimit": 10000
     },
     "inputWidgets": {},
     "nuid": "5109821f-0f8e-44e4-b5c4-da16edd0d696",
     "showTitle": false,
     "title": ""
    }
   },
   "outputs": [],
   "source": [
    "# List of file paths for the Delta files\n",
    "file_paths = [\n",
    "    \"dbfs:/mnt/olist-silver/census/\",\n",
    "    \"dbfs:/mnt/olist-silver/customers/\",\n",
    "    \"dbfs:/mnt/olist-silver/geolocations/\",\n",
    "    \"dbfs:/mnt/olist-silver/order_items/\",\n",
    "    \"dbfs:/mnt/olist-silver/order_payments/\",\n",
    "    \"dbfs:/mnt/olist-silver/order_reviews_full/\",\n",
    "    \"dbfs:/mnt/olist-silver/orders/\",\n",
    "    \"dbfs:/mnt/olist-silver/products/\",\n",
    "    \"dbfs:/mnt/olist-silver/sellers/\",\n",
    "    \"dbfs:/mnt/olist-silver/order_reviews_fortrans/\"\n",
    "]\n",
    "\n",
    "# List to store DataFrames\n",
    "dataframes = []\n",
    "\n",
    "# Loop through file paths\n",
    "for path in file_paths:\n",
    "    # Read data into DataFrame\n",
    "    df = spark.read.format('delta').load(path)\n",
    "    \n",
    "    # Append DataFrame to the list\n",
    "    dataframes.append(df)\n",
    "\n",
    "\n",
    "# Access each DataFrame individually by indexing or iterating over the list\n",
    "for idx, df in enumerate(dataframes):\n",
    "    print(f\"DataFrame {idx+1}:\")\n",
    "    df.show()  # Show the DataFrame content\n",
    "\n",
    "\n",
    "\n",
    "# Access the dataframe by name\n",
    "census_df = dataframes[0]\n",
    "customers_df = dataframes[1]\n",
    "geolocations_df = dataframes[2]\n",
    "order_items_df = dataframes[3]\n",
    "order_payments_df = dataframes[4]\n",
    "reviews_full_df = dataframes[5]\n",
    "orders_df = dataframes[6]\n",
    "products_df = dataframes[7]\n",
    "sellers_df = dataframes[8]\n",
    "\n",
    "\n",
    "census_df = census_df.toPandas()\n",
    "customers_df = customers_df.toPandas()\n",
    "geolocations_df = geolocations_df.toPandas()\n",
    "order_items_df = order_items_df.toPandas()\n",
    "order_payments_df = order_payments_df.toPandas()\n",
    "reviews_full_df = reviews_full_df.toPandas()\n",
    "orders_df = orders_df.toPandas()\n",
    "products_df = products_df.toPandas()\n",
    "sellers_df = sellers_df.toPandas()\n"
   ]
  },
  {
   "cell_type": "code",
   "execution_count": 0,
   "metadata": {
    "application/vnd.databricks.v1+cell": {
     "cellMetadata": {
      "byteLimit": 2048000,
      "rowLimit": 10000
     },
     "collapsed": true,
     "inputWidgets": {},
     "nuid": "f8b00412-ef25-4217-acd7-eed621934220",
     "showTitle": false,
     "title": ""
    }
   },
   "outputs": [],
   "source": [
    "import pandas as pd \n",
    "import os\n",
    "import numpy as np\n"
   ]
  },
  {
   "cell_type": "code",
   "execution_count": 0,
   "metadata": {
    "application/vnd.databricks.v1+cell": {
     "cellMetadata": {
      "byteLimit": 2048000,
      "rowLimit": 10000
     },
     "inputWidgets": {},
     "nuid": "7abcfb2c-0c48-4a88-9504-fde362a59bb2",
     "showTitle": false,
     "title": ""
    }
   },
   "outputs": [
    {
     "output_type": "stream",
     "name": "stdout",
     "output_type": "stream",
     "text": [
      "<class 'pandas.core.frame.DataFrame'>\nRangeIndex: 32951 entries, 0 to 32950\nData columns (total 10 columns):\n #   Column                         Non-Null Count  Dtype  \n---  ------                         --------------  -----  \n 0   product_id                     32951 non-null  string \n 1   product_category_name          32951 non-null  string \n 2   product_name_length            32341 non-null  Int64  \n 3   product_description_length     32341 non-null  Int64  \n 4   product_photos_qty             32341 non-null  Int64  \n 5   product_weight_g               32945 non-null  float64\n 6   product_length_cm              32949 non-null  float64\n 7   product_height_cm              32949 non-null  float64\n 8   product_width_cm               32949 non-null  float64\n 9   product_category_name_english  32951 non-null  string \ndtypes: Int64(3), float64(4), string(3)\nmemory usage: 2.6 MB\n"
     ]
    }
   ],
   "source": [
    "# Convert the data type of the 'product_name_length','product_description_length','product_photos_qty' column to integer\n",
    "products_df[['product_name_length','product_description_length','product_photos_qty']] = products_df[['product_name_length','product_description_length','product_photos_qty']].astype('Int64')\n",
    "\n",
    "# Convert the data type of the 'product_id','product_category_name', 'product_category_name_english' column to string\n",
    "products_df[['product_id','product_category_name','product_category_name_english']] = products_df[['product_id','product_category_name','product_category_name_english']].astype('string')\n",
    "\n",
    "\n",
    "\n",
    "products_df.info()"
   ]
  },
  {
   "cell_type": "code",
   "execution_count": 0,
   "metadata": {
    "application/vnd.databricks.v1+cell": {
     "cellMetadata": {
      "byteLimit": 2048000,
      "rowLimit": 10000
     },
     "inputWidgets": {},
     "nuid": "6071ae79-bfbb-4d86-9fa9-85ae1a89fe0a",
     "showTitle": false,
     "title": ""
    }
   },
   "outputs": [
    {
     "output_type": "stream",
     "name": "stdout",
     "output_type": "stream",
     "text": [
      "<class 'pandas.core.frame.DataFrame'>\nRangeIndex: 102425 entries, 0 to 102424\nData columns (total 10 columns):\n #   Column                  Non-Null Count   Dtype         \n---  ------                  --------------   -----         \n 0   order_id                102425 non-null  string        \n 1   product_id              102425 non-null  string        \n 2   seller_id               102425 non-null  string        \n 3   shipping_limit_date     102425 non-null  datetime64[ns]\n 4   price_per_item          102425 non-null  float64       \n 5   freight_value_per_item  102425 non-null  float64       \n 6   order_quantity          102425 non-null  int64         \n 7   total_order_value       102425 non-null  float64       \n 8   total_freight_value     102425 non-null  float64       \n 9   total_value             102425 non-null  float64       \ndtypes: datetime64[ns](1), float64(5), int64(1), string(3)\nmemory usage: 7.8 MB\nNone\norder_id                  0\nproduct_id                0\nseller_id                 0\nshipping_limit_date       0\nprice_per_item            0\nfreight_value_per_item    0\norder_quantity            0\ntotal_order_value         0\ntotal_freight_value       0\ntotal_value               0\ndtype: int64\norder_id                  98666\nproduct_id                32951\nseller_id                  3095\nshipping_limit_date       93318\nprice_per_item             5968\nfreight_value_per_item     6999\norder_quantity               16\ntotal_order_value          6990\ntotal_freight_value        7963\ntotal_value               31223\ndtype: int64\norder_id                          string\nproduct_id                        string\nseller_id                         string\nshipping_limit_date       datetime64[ns]\nprice_per_item                   float64\nfreight_value_per_item           float64\norder_quantity                     int64\ntotal_order_value                float64\ntotal_freight_value              float64\ntotal_value                      float64\ndtype: object\n"
     ]
    }
   ],
   "source": [
    "\n",
    "# Convert the data type of the 'order_id','product_id','seller_id' column to string\n",
    "order_items_df[['order_id','product_id','seller_id']] = order_items_df[['order_id','product_id','seller_id']].astype('string')\n",
    "\n",
    "# Convert the shipping_limit_date column to datetime format\n",
    "order_items_df['shipping_limit_date'] = pd.to_datetime(order_items_df['shipping_limit_date'], format='%Y-%m-%d %H:%M:%S')\n",
    "\n",
    "order_items_df['total_order_value'] = order_items_df['price_per_item'] * order_items_df['order_quantity']\n",
    "order_items_df['total_freight_value'] = order_items_df['freight_value_per_item'] * order_items_df['order_quantity']\n",
    "order_items_df['total_value'] = (order_items_df['price_per_item'] + order_items_df['freight_value_per_item']) * order_items_df['order_quantity']\n",
    "print(order_items_df.info())\n",
    "\n",
    "# no missing values in the order item\n",
    "print(order_items_df.isna().sum())\n",
    "\n",
    "print(order_items_df.nunique())\n",
    "print(order_items_df.dtypes)\n",
    "\n"
   ]
  },
  {
   "cell_type": "code",
   "execution_count": 0,
   "metadata": {
    "application/vnd.databricks.v1+cell": {
     "cellMetadata": {
      "byteLimit": 2048000,
      "rowLimit": 10000
     },
     "collapsed": true,
     "inputWidgets": {},
     "nuid": "c1cfb23c-1df6-409d-96f1-51bd0c6ba946",
     "showTitle": false,
     "title": ""
    }
   },
   "outputs": [
    {
     "output_type": "stream",
     "name": "stdout",
     "output_type": "stream",
     "text": [
      "<class 'pandas.core.frame.DataFrame'>\nRangeIndex: 103877 entries, 0 to 103876\nData columns (total 5 columns):\n #   Column                Non-Null Count   Dtype  \n---  ------                --------------   -----  \n 0   order_id              103877 non-null  object \n 1   payment_sequential    103877 non-null  int64  \n 2   payment_type          103877 non-null  object \n 3   payment_installments  103877 non-null  int64  \n 4   payment_value         103877 non-null  float64\ndtypes: float64(1), int64(2), object(2)\nmemory usage: 4.0+ MB\n"
     ]
    }
   ],
   "source": [
    "order_payments_df.info()"
   ]
  },
  {
   "cell_type": "code",
   "execution_count": 0,
   "metadata": {
    "application/vnd.databricks.v1+cell": {
     "cellMetadata": {
      "byteLimit": 2048000,
      "rowLimit": 10000
     },
     "collapsed": true,
     "inputWidgets": {},
     "nuid": "ab55dda0-e3f0-4e78-9ac4-04b7ec9410a6",
     "showTitle": false,
     "title": ""
    }
   },
   "outputs": [
    {
     "output_type": "stream",
     "name": "stdout",
     "output_type": "stream",
     "text": [
      "<class 'pandas.core.frame.DataFrame'>\nRangeIndex: 103877 entries, 0 to 103876\nData columns (total 5 columns):\n #   Column                Non-Null Count   Dtype  \n---  ------                --------------   -----  \n 0   order_id              103877 non-null  string \n 1   payment_sequential    103877 non-null  int64  \n 2   payment_type          103877 non-null  string \n 3   payment_installments  103877 non-null  int64  \n 4   payment_value         103877 non-null  float64\ndtypes: float64(1), int64(2), string(2)\nmemory usage: 4.0 MB\n"
     ]
    }
   ],
   "source": [
    "# Convert the data type of the 'order_id','payment_type' column to string\n",
    "order_payments_df[['order_id','payment_type']] = order_payments_df[['order_id','payment_type']].astype('string')\n",
    "order_payments_df.info()"
   ]
  },
  {
   "cell_type": "code",
   "execution_count": 0,
   "metadata": {
    "application/vnd.databricks.v1+cell": {
     "cellMetadata": {
      "byteLimit": 2048000,
      "rowLimit": 10000
     },
     "inputWidgets": {},
     "nuid": "6b4a7d92-9e5a-4bb8-8c6d-8953c3a1c20a",
     "showTitle": false,
     "title": ""
    }
   },
   "outputs": [
    {
     "output_type": "stream",
     "name": "stdout",
     "output_type": "stream",
     "text": [
      "<class 'pandas.core.frame.DataFrame'>\nRangeIndex: 99441 entries, 0 to 99440\nData columns (total 13 columns):\n #   Column                                Non-Null Count  Dtype         \n---  ------                                --------------  -----         \n 0   order_id                              99441 non-null  string        \n 1   customer_id                           99441 non-null  string        \n 2   order_status                          99441 non-null  string        \n 3   order_purchase_timestamp              99441 non-null  datetime64[ns]\n 4   order_approved_at                     99295 non-null  datetime64[ns]\n 5   order_delivered_carrier_date          97660 non-null  datetime64[ns]\n 6   order_delivered_customer_date         96484 non-null  datetime64[ns]\n 7   order_estimated_delivery_date         99441 non-null  datetime64[ns]\n 8   purchased_to_approved_days            99295 non-null  float64       \n 9   approved_to_delivered_carrier_days    97660 non-null  float64       \n 10  delivered_carrier_to_customer_days    96484 non-null  float64       \n 11  purchased_to_delivered_customer_days  96484 non-null  float64       \n 12  estimated_delivery_delay_days         96484 non-null  float64       \ndtypes: datetime64[ns](5), float64(5), string(3)\nmemory usage: 9.9 MB\n"
     ]
    }
   ],
   "source": [
    "# Convert the data type of the 'order_id','customer_id','order_status' column to string\n",
    "orders_df[['order_id','customer_id','order_status']] = orders_df[['order_id','customer_id','order_status']].astype('string')\n",
    "orders_df.info()"
   ]
  },
  {
   "cell_type": "code",
   "execution_count": 0,
   "metadata": {
    "application/vnd.databricks.v1+cell": {
     "cellMetadata": {
      "byteLimit": 2048000,
      "rowLimit": 10000
     },
     "inputWidgets": {},
     "nuid": "2d50f78c-0a89-40da-8905-1403df82cc35",
     "showTitle": false,
     "title": ""
    }
   },
   "outputs": [
    {
     "output_type": "stream",
     "name": "stdout",
     "output_type": "stream",
     "text": [
      "<class 'pandas.core.frame.DataFrame'>\nRangeIndex: 19173 entries, 0 to 19172\nData columns (total 5 columns):\n #   Column                       Non-Null Count  Dtype  \n---  ------                       --------------  -----  \n 0   geolocation_zip_code_prefix  19173 non-null  int64  \n 1   geolocation_lat              19173 non-null  float64\n 2   geolocation_lng              19173 non-null  float64\n 3   geolocation_city             19173 non-null  string \n 4   geolocation_state            19173 non-null  string \ndtypes: float64(2), int64(1), string(2)\nmemory usage: 749.1 KB\n"
     ]
    }
   ],
   "source": [
    "# Convert the data type of the 'geolocation_city','geolocation_state' column to string\n",
    "geolocations_df[['geolocation_city','geolocation_state']] = geolocations_df[['geolocation_city','geolocation_state']].astype('string')\n",
    "geolocations_df.info()"
   ]
  },
  {
   "cell_type": "code",
   "execution_count": 0,
   "metadata": {
    "application/vnd.databricks.v1+cell": {
     "cellMetadata": {
      "byteLimit": 2048000,
      "rowLimit": 10000
     },
     "inputWidgets": {},
     "nuid": "bad33101-f3ea-44b7-86eb-5cf5b4c77756",
     "showTitle": false,
     "title": ""
    }
   },
   "outputs": [
    {
     "output_type": "stream",
     "name": "stdout",
     "output_type": "stream",
     "text": [
      "<class 'pandas.core.frame.DataFrame'>\nRangeIndex: 99173 entries, 0 to 99172\nData columns (total 7 columns):\n #   Column                   Non-Null Count  Dtype         \n---  ------                   --------------  -----         \n 0   review_id                99173 non-null  string        \n 1   order_id                 99173 non-null  string        \n 2   review_score             99173 non-null  int64         \n 3   review_comment_title     99173 non-null  string        \n 4   review_comment_message   99173 non-null  string        \n 5   review_creation_date     99173 non-null  datetime64[ns]\n 6   review_answer_timestamp  99173 non-null  datetime64[ns]\ndtypes: datetime64[ns](2), int64(1), string(4)\nmemory usage: 5.3 MB\n"
     ]
    }
   ],
   "source": [
    "# Convert the data type of the 'review_id','order_id','review_comment_title','review_comment_message' column to string\n",
    "reviews_full_df[['review_id','order_id','review_comment_title','review_comment_message']] = reviews_full_df[['review_id','order_id','review_comment_title','review_comment_message']].astype('string')\n",
    "\n",
    "reviews_full_df.info()"
   ]
  },
  {
   "cell_type": "code",
   "execution_count": 0,
   "metadata": {
    "application/vnd.databricks.v1+cell": {
     "cellMetadata": {
      "byteLimit": 2048000,
      "rowLimit": 10000
     },
     "collapsed": true,
     "inputWidgets": {},
     "nuid": "c79461db-ff31-430b-b834-863ad3488d30",
     "showTitle": false,
     "title": ""
    }
   },
   "outputs": [
    {
     "output_type": "stream",
     "name": "stdout",
     "output_type": "stream",
     "text": [
      "<class 'pandas.core.frame.DataFrame'>\nRangeIndex: 3095 entries, 0 to 3094\nData columns (total 5 columns):\n #   Column                  Non-Null Count  Dtype \n---  ------                  --------------  ----- \n 0   seller_id               3095 non-null   string\n 1   seller_zip_code_prefix  3095 non-null   int64 \n 2   seller_city             3095 non-null   string\n 3   seller_state            3095 non-null   string\n 4   official_city           3095 non-null   string\ndtypes: int64(1), string(4)\nmemory usage: 121.0 KB\n"
     ]
    }
   ],
   "source": [
    "# Convert the data type of the 'seller_id','seller_city','seller_state','official_city' column to string\n",
    "sellers_df[['seller_id','seller_city','seller_state','official_city']] = sellers_df[['seller_id','seller_city','seller_state','official_city']].astype('string')\n",
    "\n",
    "sellers_df.info()"
   ]
  },
  {
   "cell_type": "code",
   "execution_count": 0,
   "metadata": {
    "application/vnd.databricks.v1+cell": {
     "cellMetadata": {
      "byteLimit": 2048000,
      "rowLimit": 10000
     },
     "collapsed": true,
     "inputWidgets": {},
     "nuid": "9ed09582-c3d3-4a1b-be90-2cca652fff40",
     "showTitle": false,
     "title": ""
    }
   },
   "outputs": [
    {
     "output_type": "stream",
     "name": "stdout",
     "output_type": "stream",
     "text": [
      "<class 'pandas.core.frame.DataFrame'>\nRangeIndex: 99441 entries, 0 to 99440\nData columns (total 6 columns):\n #   Column                    Non-Null Count  Dtype \n---  ------                    --------------  ----- \n 0   customer_id               99441 non-null  string\n 1   customer_unique_id        99441 non-null  string\n 2   customer_zip_code_prefix  99441 non-null  int64 \n 3   customer_city             99441 non-null  string\n 4   customer_state            99441 non-null  string\n 5   official_city             99441 non-null  string\ndtypes: int64(1), string(5)\nmemory usage: 4.6 MB\n"
     ]
    }
   ],
   "source": [
    "# Convert the data type of the 'customer_id','customer_unique_id','customer_city', 'customer_state','official_city' column to string\n",
    "\n",
    "customers_df[['customer_id','customer_unique_id','customer_city', 'customer_state','official_city']] = customers_df[['customer_id','customer_unique_id','customer_city', 'customer_state','official_city']].astype('string')\n",
    "\n",
    "customers_df.info()"
   ]
  },
  {
   "cell_type": "code",
   "execution_count": 0,
   "metadata": {
    "application/vnd.databricks.v1+cell": {
     "cellMetadata": {
      "byteLimit": 2048000,
      "rowLimit": 10000
     },
     "inputWidgets": {},
     "nuid": "21184d98-4279-43d7-9efe-da053172ef80",
     "showTitle": false,
     "title": ""
    }
   },
   "outputs": [],
   "source": [
    "# Convert Pandas DataFrame to Spark DataFrame\n",
    "orders_spark_df = spark.createDataFrame(orders_df)\n",
    "order_items_spark_df = spark.createDataFrame(order_items_df)\n",
    "products_spark_df = spark.createDataFrame(products_df)\n",
    "census_spark_df = spark.createDataFrame(census_df)\n",
    "order_payments_spark_df = spark.createDataFrame(order_payments_df)\n",
    "geolocations_spark_df = spark.createDataFrame(geolocations_df)\n",
    "sellers_spark_df = spark.createDataFrame(sellers_df)\n",
    "customers_spark_df = spark.createDataFrame(customers_df)\n",
    "reviews_full_spark_df = spark.createDataFrame(reviews_full_df)\n",
    "\n",
    "\n",
    "\n",
    "# Write Spark DataFrame to delta\n",
    "orders_spark_df.write.format(\"delta\").mode(\"overwrite\").option(\"header\", \"true\").save(\"dbfs:/mnt/olist-gold/orders\")\n",
    "order_items_spark_df.write.format(\"delta\").mode(\"overwrite\").option(\"header\", \"true\").save(\"dbfs:/mnt/olist-gold/order_items\")\n",
    "products_spark_df.write.format(\"delta\").mode(\"overwrite\").option(\"header\", \"true\").save(\"dbfs:/mnt/olist-gold/products\")\n",
    "census_spark_df.write.format(\"delta\").mode(\"overwrite\").option(\"header\", \"true\").save(\"dbfs:/mnt/olist-gold/census\")\n",
    "order_payments_spark_df.write.format(\"delta\").mode(\"overwrite\").option(\"header\", \"true\").save(\"dbfs:/mnt/olist-gold/order_payments\")\n",
    "geolocations_spark_df.write.format(\"delta\").mode(\"overwrite\").option(\"header\", \"true\").save(\"dbfs:/mnt/olist-gold/geolocation\")\n",
    "sellers_spark_df.write.format(\"delta\").mode(\"overwrite\").option(\"header\", \"true\").save(\"dbfs:/mnt/olist-gold/sellers\")\n",
    "customers_spark_df.write.format(\"delta\").mode(\"overwrite\").option(\"header\", \"true\").save(\"dbfs:/mnt/olist-gold/customers\")\n",
    "reviews_full_spark_df.write.format(\"delta\").mode(\"overwrite\").option(\"header\", \"true\").save(\"dbfs:/mnt/olist-gold/reviews_full\")\n",
    "\n"
   ]
  }
 ],
 "metadata": {
  "application/vnd.databricks.v1+notebook": {
   "dashboards": [],
   "environmentMetadata": null,
   "language": "python",
   "notebookMetadata": {
    "pythonIndentUnit": 4
   },
   "notebookName": "gold_transformation",
   "widgets": {}
  }
 },
 "nbformat": 4,
 "nbformat_minor": 0
}
